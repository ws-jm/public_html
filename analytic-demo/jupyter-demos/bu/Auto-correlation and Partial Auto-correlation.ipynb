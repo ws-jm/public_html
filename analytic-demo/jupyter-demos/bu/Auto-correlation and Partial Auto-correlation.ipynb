{
 "cells": [
  {
   "cell_type": "markdown",
   "metadata": {
    "id": "LAyM38lGUpkL"
   },
   "source": [
    "## Imports"
   ]
  },
  {
   "cell_type": "code",
   "execution_count": 2,
   "metadata": {
    "id": "aw52ArsLUbri"
   },
   "outputs": [],
   "source": [
    "# from class_source.idata_client import IData\n",
    "from idmmonitor import IData\n",
    "import pandas as pd\n",
    "import numpy as np\n",
    "import matplotlib.pyplot as plt\n",
    "import warnings\n",
    "warnings.filterwarnings('ignore')"
   ]
  },
  {
   "cell_type": "markdown",
   "metadata": {
    "id": "sObP-2EybVCt"
   },
   "source": [
    "## API Code"
   ]
  },
  {
   "cell_type": "code",
   "execution_count": 3,
   "metadata": {
    "colab": {
     "base_uri": "https://localhost:8080/"
    },
    "id": "N19Yl28DT3ky",
    "outputId": "4a9a43d8-92db-4697-c323-53ea2c700ee7",
    "scrolled": true
   },
   "outputs": [
    {
     "name": "stdout",
     "output_type": "stream",
     "text": [
      "58F2Z-RBUEV-6AJ4T-SL3IC\n",
      "\n",
      "{'Metadata': {'Datasets': 22, 'Updated': '2021-12-30T15:46:48Z', 'TimeStamp': 2459579.1575, 'Page': 1, 'PageCount': 1, 'Rows': 22}, 'Datasets': [{'Datasource': 'ECBFX', 'Symbol': 'EURGBP', 'Name': 'ECB - Euro vs Pound Sterling', 'Description': 'European Central Bank exchange rate for Euro vs Pound Sterling (EUR/GBP)', 'Frequency': 'Day', 'Currency': None, 'Unit': None, 'Decimals': None, 'Bates': ['Close'], 'BateIndex': [0], 'StartDate': '1999-01-04', 'EndDate': '2021-12-30', 'Values': 5941, 'Corrections': 0, 'Premium': False, 'Favorite': True, 'IsCategoryDS': False, 'Subscription': 'Active', 'Logo': 'http://adm-gui.intdatamedia.com/datasources/ECBLA.png', 'Status': 200, 'Details': 'OK'}, {'Datasource': 'ECBFX', 'Symbol': 'EURCNY', 'Name': 'ECB - Euro vs Chinese yuan Renminbi', 'Description': 'European Central Bank exchange rate for Euro vs Chinese yuan Renminbi (EUR/CNY)', 'Frequency': 'Day', 'Currency': None, 'Unit': None, 'Decimals': None, 'Bates': ['Close'], 'BateIndex': [0], 'StartDate': '2005-04-01', 'EndDate': '2021-12-30', 'Values': 4342, 'Corrections': 0, 'Premium': False, 'Favorite': True, 'IsCategoryDS': False, 'Subscription': 'Active', 'Logo': 'http://adm-gui.intdatamedia.com/datasources/ECBLA.png', 'Status': 200, 'Details': 'OK'}, {'Datasource': 'ECBFX', 'Symbol': 'EURISK', 'Name': 'ECB - Euro vs Icelandic Krona', 'Description': 'European Central Bank exchange rate for Euro vs Icelandic Krona (EUR/ISK)', 'Frequency': 'Day', 'Currency': None, 'Unit': None, 'Decimals': None, 'Bates': ['Close'], 'BateIndex': [0], 'StartDate': '1999-01-04', 'EndDate': '2021-12-30', 'Values': 3853, 'Corrections': 0, 'Premium': False, 'Favorite': True, 'IsCategoryDS': False, 'Subscription': 'Active', 'Logo': 'http://adm-gui.intdatamedia.com/datasources/ECBLA.png', 'Status': 200, 'Details': 'OK'}, {'Datasource': 'ECBFX', 'Symbol': 'EURCZK', 'Name': 'ECB - Euro vs Czech Koruna', 'Description': 'European Central Bank exchange rate for Euro vs Czech Koruna (EUR/CZK)', 'Frequency': 'Day', 'Currency': None, 'Unit': None, 'Decimals': None, 'Bates': ['Close'], 'BateIndex': [0], 'StartDate': '1999-01-04', 'EndDate': '2021-12-30', 'Values': 5941, 'Corrections': 0, 'Premium': False, 'Favorite': True, 'IsCategoryDS': False, 'Subscription': 'Active', 'Logo': 'http://adm-gui.intdatamedia.com/datasources/ECBLA.png', 'Status': 200, 'Details': 'OK'}, {'Datasource': 'ECBFX', 'Symbol': 'EURDKK', 'Name': 'ECB - Euro vs Danish Krone', 'Description': 'European Central Bank exchange rate for Euro vs Danish Krone (EUR/DKK)', 'Frequency': 'Day', 'Currency': None, 'Unit': None, 'Decimals': None, 'Bates': ['Close'], 'BateIndex': [0], 'StartDate': '1999-01-04', 'EndDate': '2021-12-30', 'Values': 5855, 'Corrections': 0, 'Premium': False, 'Favorite': True, 'IsCategoryDS': False, 'Subscription': 'Active', 'Logo': 'http://adm-gui.intdatamedia.com/datasources/ECBLA.png', 'Status': 200, 'Details': 'OK'}, {'Datasource': 'ECBFX', 'Symbol': 'EURBRL', 'Name': 'ECB - Euro vs Brazilian Real', 'Description': 'European Central Bank exchange rate for Euro vs Brazilian Real (EUR/BRL)', 'Frequency': 'Day', 'Currency': None, 'Unit': None, 'Decimals': None, 'Bates': ['Close'], 'BateIndex': [0], 'StartDate': '2008-01-02', 'EndDate': '2021-12-30', 'Values': 3637, 'Corrections': 0, 'Premium': False, 'Favorite': True, 'IsCategoryDS': False, 'Subscription': 'Active', 'Logo': 'http://adm-gui.intdatamedia.com/datasources/ECBLA.png', 'Status': 200, 'Details': 'OK'}, {'Datasource': 'ECBFX', 'Symbol': 'EURCAD', 'Name': 'ECB - Euro vs Canadian Dollar', 'Description': 'European Central Bank exchange rate for Euro vs Canadian Dollar (EUR/CAD)', 'Frequency': 'Day', 'Currency': None, 'Unit': None, 'Decimals': None, 'Bates': ['Close'], 'BateIndex': [0], 'StartDate': '1999-01-04', 'EndDate': '2021-12-30', 'Values': 5941, 'Corrections': 0, 'Premium': False, 'Favorite': True, 'IsCategoryDS': False, 'Subscription': 'Active', 'Logo': 'http://adm-gui.intdatamedia.com/datasources/ECBLA.png', 'Status': 200, 'Details': 'OK'}, {'Datasource': 'ECBFX', 'Symbol': 'EURILS', 'Name': 'ECB - Euro vs Israeli Shekel', 'Description': 'European Central Bank exchange rate for Euro vs Israeli Shekel (EUR/ILS)', 'Frequency': 'Day', 'Currency': None, 'Unit': None, 'Decimals': None, 'Bates': ['Close'], 'BateIndex': [0], 'StartDate': '2011-01-03', 'EndDate': '2021-12-30', 'Values': 2867, 'Corrections': 0, 'Premium': False, 'Favorite': True, 'IsCategoryDS': False, 'Subscription': 'Active', 'Logo': 'http://adm-gui.intdatamedia.com/datasources/ECBLA.png', 'Status': 200, 'Details': 'OK'}, {'Datasource': 'PLATTS', 'Datacategory': 'FX', 'Symbol': 'AAVXN00', 'Name': 'Euro-US$ Ex Rate 16:30 London', 'Description': 'Euro-US$ Ex Rate 16:30 London', 'Frequency': 'Day', 'Currency': 'EUR', 'Unit': 'UNS', 'Decimals': 4, 'Bates': ['Close'], 'BateIndex': [0], 'StartDate': '2006-11-17', 'EndDate': '2018-09-21', 'Values': 2958, 'Corrections': 1, 'Premium': True, 'Favorite': True, 'IsCategoryDS': True, 'Additional': [], 'Subscription': 'Active', 'Logo': 'https://www.idatamedia.org/datasources/spglobal.png', 'Status': 200, 'Details': 'OK'}, {'Datasource': 'PLATTS', 'Datacategory': 'FX', 'Symbol': 'AAFCZ00', 'Name': 'ECB Euro-US Dollar MAvg', 'Description': 'ECB Euro-US Dollar MAvg', 'Frequency': 'Month', 'Currency': 'USD', 'Unit': 'UNS', 'Decimals': 4, 'Bates': ['Close', 'High', 'Low', 'Mean (c)', 'Hi-Lo (c)'], 'BateIndex': [0, 1, 2, 3, 4], 'StartDate': '2001-01-01', 'EndDate': '2021-11-01', 'Values': 397, 'Corrections': 0, 'Premium': True, 'Favorite': True, 'IsCategoryDS': True, 'Additional': [], 'Subscription': 'Active', 'Logo': 'https://www.idatamedia.org/datasources/spglobal.png', 'Status': 200, 'Details': 'OK'}, {'Datasource': 'PLATTS', 'Datacategory': 'FX', 'Symbol': 'AACOS00', 'Name': 'DKK-Euro Spot', 'Description': 'EUR-DKK Spot', 'Frequency': 'Day', 'Currency': 'DKK', 'Unit': 'UNS', 'Decimals': 4, 'Bates': ['Index'], 'BateIndex': [0], 'StartDate': '1999-06-30', 'EndDate': '2019-03-22', 'Values': 4999, 'Corrections': 5, 'Premium': True, 'Favorite': True, 'IsCategoryDS': True, 'Additional': [], 'Subscription': 'Active', 'Logo': 'https://www.idatamedia.org/datasources/spglobal.png', 'Status': 200, 'Details': 'OK'}, {'Datasource': 'PLATTS', 'Datacategory': 'FX', 'Symbol': 'AACOR00', 'Name': 'SKr-Euro Spot', 'Description': 'EUR-SEK Spot', 'Frequency': 'Day', 'Currency': 'SEK', 'Unit': 'UNS', 'Decimals': 4, 'Bates': ['Index'], 'BateIndex': [0], 'StartDate': '1999-04-19', 'EndDate': '2019-03-22', 'Values': 5050, 'Corrections': 5, 'Premium': True, 'Favorite': True, 'IsCategoryDS': True, 'Additional': [], 'Subscription': 'Active', 'Logo': 'https://www.idatamedia.org/datasources/spglobal.png', 'Status': 200, 'Details': 'OK'}, {'Datasource': 'PLATTS', 'Datacategory': 'FX', 'Symbol': 'AACOQ00', 'Name': 'NOK-Euro Spot', 'Description': 'EUR-NOK Spot', 'Frequency': 'Day', 'Currency': 'NOK', 'Unit': 'UNS', 'Decimals': 4, 'Bates': ['Index'], 'BateIndex': [0], 'StartDate': '1999-04-19', 'EndDate': '2019-03-22', 'Values': 5058, 'Corrections': 5, 'Premium': True, 'Favorite': True, 'IsCategoryDS': True, 'Additional': [], 'Subscription': 'Active', 'Logo': 'https://www.idatamedia.org/datasources/spglobal.png', 'Status': 200, 'Details': 'OK'}, {'Datasource': 'PLATTS', 'Datacategory': 'FX', 'Symbol': 'AACOP00', 'Name': 'Euro-USD Spot', 'Description': 'Euro-USD Spot', 'Frequency': 'Day', 'Currency': 'USD', 'Unit': 'UNS', 'Decimals': 4, 'Bates': ['Index'], 'BateIndex': [0], 'StartDate': '1999-04-19', 'EndDate': '2021-12-29', 'Values': 6241, 'Corrections': 5, 'Premium': True, 'Favorite': True, 'IsCategoryDS': True, 'Additional': [], 'Subscription': 'Active', 'Logo': 'https://www.idatamedia.org/datasources/spglobal.png', 'Status': 200, 'Details': 'OK'}, {'Datasource': 'PLATTS', 'Datacategory': 'FX', 'Symbol': 'AACOO00', 'Name': 'GBP-USD Spot', 'Description': 'USD-GBP Spot', 'Frequency': 'Day', 'Currency': 'GBP', 'Unit': 'UNS', 'Decimals': 4, 'Bates': ['Index'], 'BateIndex': [0], 'StartDate': '1999-04-19', 'EndDate': '2021-12-29', 'Values': 6241, 'Corrections': 5, 'Premium': True, 'Favorite': True, 'IsCategoryDS': True, 'Additional': [], 'Subscription': 'Active', 'Logo': 'https://www.idatamedia.org/datasources/spglobal.png', 'Status': 200, 'Details': 'OK'}, {'Datasource': 'PLATTS', 'Datacategory': 'FX', 'Symbol': 'AACOW00', 'Name': 'GBP-Euro Spot', 'Description': 'EUR-GBP spot', 'Frequency': 'Day', 'Currency': 'GBP', 'Unit': 'UNS', 'Decimals': 4, 'Bates': ['Index'], 'BateIndex': [0], 'StartDate': '1999-04-19', 'EndDate': '2021-12-29', 'Values': 6259, 'Corrections': 5, 'Premium': True, 'Favorite': True, 'IsCategoryDS': True, 'Additional': [], 'Subscription': 'Active', 'Logo': 'https://www.idatamedia.org/datasources/spglobal.png', 'Status': 200, 'Details': 'OK'}, {'Datasource': 'PLATTS', 'Datacategory': 'FX', 'Symbol': 'AACOK00', 'Name': 'SFr-USD Spot', 'Description': 'USD-CHF Spot', 'Frequency': 'Day', 'Currency': 'CHF', 'Unit': 'UNS', 'Decimals': 4, 'Bates': ['Index'], 'BateIndex': [0], 'StartDate': '1999-04-19', 'EndDate': '2016-12-30', 'Values': 4478, 'Corrections': 6, 'Premium': True, 'Favorite': True, 'IsCategoryDS': True, 'Additional': [], 'Subscription': 'Active', 'Logo': 'https://www.idatamedia.org/datasources/spglobal.png', 'Status': 200, 'Details': 'OK'}, {'Datasource': 'PLATTS', 'Datacategory': 'FX', 'Symbol': 'AACOJ00', 'Name': 'DKK-USD Spot', 'Description': 'USD-DKK Spot', 'Frequency': 'Day', 'Currency': 'DKK', 'Unit': 'UNS', 'Decimals': 4, 'Bates': ['Index'], 'BateIndex': [0], 'StartDate': '1999-06-30', 'EndDate': '2019-03-22', 'Values': 5000, 'Corrections': 5, 'Premium': True, 'Favorite': True, 'IsCategoryDS': True, 'Additional': [], 'Subscription': 'Active', 'Logo': 'https://www.idatamedia.org/datasources/spglobal.png', 'Status': 200, 'Details': 'OK'}, {'Datasource': 'PLATTS', 'Datacategory': 'FX', 'Symbol': 'AACOI00', 'Name': 'SKr-USD Spot', 'Description': 'USD-SEK Spot', 'Frequency': 'Day', 'Currency': 'SEK', 'Unit': 'UNS', 'Decimals': 4, 'Bates': ['Index'], 'BateIndex': [0], 'StartDate': '1999-04-19', 'EndDate': '2019-03-22', 'Values': 5050, 'Corrections': 5, 'Premium': True, 'Favorite': True, 'IsCategoryDS': True, 'Additional': [], 'Subscription': 'Active', 'Logo': 'https://www.idatamedia.org/datasources/spglobal.png', 'Status': 200, 'Details': 'OK'}, {'Datasource': 'PLATTS', 'Datacategory': 'FX', 'Symbol': 'AACOF00', 'Name': 'NOK-USD Spot', 'Description': 'USD-NOK Spot', 'Frequency': 'Day', 'Currency': 'NOK', 'Unit': 'UNS', 'Decimals': 4, 'Bates': ['Index'], 'BateIndex': [0], 'StartDate': '1999-04-19', 'EndDate': '2019-03-22', 'Values': 5050, 'Corrections': 5, 'Premium': True, 'Favorite': True, 'IsCategoryDS': True, 'Additional': [], 'Subscription': 'Active', 'Logo': 'https://www.idatamedia.org/datasources/spglobal.png', 'Status': 200, 'Details': 'OK'}, {'Datasource': 'PLATTS', 'Datacategory': 'FX', 'Symbol': 'FRBIJ00', 'Name': 'Fed Reserve Treasury Yld 20-Year', 'Description': 'Fed Reserve Treasury Yld 20-Year', 'Frequency': 'Day', 'Currency': 'N/A', 'Unit': 'N/A', 'Decimals': 2, 'Bates': ['Index'], 'BateIndex': [0], 'StartDate': '2011-05-31', 'EndDate': '2021-12-28', 'Values': 2943, 'Corrections': 0, 'Premium': True, 'Favorite': True, 'IsCategoryDS': True, 'Additional': [], 'Subscription': 'Active', 'Logo': 'https://www.idatamedia.org/datasources/spglobal.png', 'Status': 200, 'Details': 'OK'}, {'Datasource': 'PLATTS', 'Datacategory': 'FX', 'Symbol': 'AAJJB00', 'Name': 'Mexican Peso VS US Dollar Spt D', 'Description': 'MEXICAN PESO VS US DOLLAR SPOT DAILY', 'Frequency': '', 'Currency': '', 'Unit': '', 'Decimals': '', 'Bates': ['Close'], 'BateIndex': [0], 'StartDate': '2002-04-19', 'EndDate': '2002-11-14', 'Values': 122, 'Corrections': 0, 'Premium': True, 'Favorite': True, 'IsCategoryDS': True, 'Additional': [], 'Subscription': 'Active', 'Logo': 'https://www.idatamedia.org/datasources/spglobal.png', 'Status': 200, 'Details': 'OK'}]}\n",
      "\n",
      "End...\n"
     ]
    }
   ],
   "source": [
    "# Variables to use\n",
    "API_KEY = \"58F2Z-RBUEV-6AJ4T-SL3IC\"\n",
    "print(API_KEY)\n",
    "\n",
    "# initialise\n",
    "idata = IData()\n",
    "# echo request information on\n",
    "#idata.set_verbose(True)\n",
    "\n",
    "#Store the API Key in the package\n",
    "idata.set_api_key(API_KEY)\n",
    "\n",
    "\n",
    "result = idata.get_user_favorites()\n",
    "if (result is None):\n",
    "    print(\"Could not get the user datasources. Check terminal for errors.\")\n",
    "else:\n",
    "    print(result)\n",
    "\n",
    "print('')\n",
    "print(\"End...\")"
   ]
  },
  {
   "cell_type": "markdown",
   "metadata": {
    "id": "Y1DLRL3DDRqS"
   },
   "source": [
    "## Get_User_Favorites()"
   ]
  },
  {
   "cell_type": "code",
   "execution_count": 4,
   "metadata": {
    "colab": {
     "base_uri": "https://localhost:8080/"
    },
    "id": "8DoQORC7i3W4",
    "outputId": "855031ad-677c-4329-b32a-c40f47313002"
   },
   "outputs": [
    {
     "name": "stdout",
     "output_type": "stream",
     "text": [
      "\n",
      "-----------------------------------\n",
      "POST\n",
      "URL: \n",
      "https://api.idatamedia.org/\n",
      "API: \n",
      "GetValuesRC\n",
      "Payload: \n",
      "{'SessionToken': '3c7b7bfa8ccf8a1e54e996bb281a0d59', 'Series': [{'Datasource': 'ECBFX', 'Symbol': 'EURGBP'}, {'Datasource': 'ECBFX', 'Symbol': 'EURUSD'}], 'StartDate': 'Earliest', 'EndDate': 'Latest', 'Periods': 0, 'CommonStart': 'false', 'CommonEnd': 'false', 'CommonUA': 'true', 'DateFormat': 'YYYY-MM-DD', 'DateOrder': 'asc', 'Prefill': 'false', 'Fill': 'false', 'Frequency': 'd', 'Postfill': 'false', 'Rounding': 'auto', 'ReturnMetadata': 'false', 'ReturnAccess': 'false', 'ReturnParameters': 'false'}\n",
      "\n"
     ]
    }
   ],
   "source": [
    "result_1 = idata.get_dataset_values_rc([{\"Datasource\":\"ECBFX\",\"Symbol\":\"EURGBP\"}, {\"Datasource\":\"ECBFX\",\"Symbol\":\"EURUSD\"}])"
   ]
  },
  {
   "cell_type": "markdown",
   "metadata": {},
   "source": [
    "Functions that help ous access the data."
   ]
  },
  {
   "cell_type": "code",
   "execution_count": 5,
   "metadata": {
    "id": "wcqIZKK-Ckke"
   },
   "outputs": [],
   "source": [
    "def get_daily_data(dictionary):\n",
    "\n",
    "    columns = dictionary['Columns']\n",
    "    rows = dictionary['Rows']\n",
    "    corrections = dictionary['Corrections']\n",
    "    df = pd.DataFrame(rows.values(), columns = [columns[0]['Name'], columns[1]['Name']], index = rows.keys())\n",
    "    df = df.reset_index()\n",
    "    df.rename(columns = {'index':'Date'}, inplace = True)\n",
    "    df.dropna(axis = 0, inplace = True)\n",
    "    df[\"Date\"] = pd.to_datetime(df['Date'])\n",
    "    df.insert(1, 'Year', df.Date.dt.year)\n",
    "    df.insert(2, 'Month', df.Date.dt.month)\n",
    "\n",
    "    return df\n",
    "\n",
    "def get_averages(df):\n",
    "    theList = ['Jan', 'Feb', 'Mar', 'Apr', 'May', 'Jun', 'Jul', 'Aug', 'Sep', 'Oct', 'Nov', 'Dec']\n",
    "    theList_upd = {i+1:word for i,word in enumerate(theList)}\n",
    "\n",
    "    df = df.groupby(['Year', 'Month'], as_index= False).agg({\"ECB - Euro vs Pound Sterling\": np.mean, \"ECB - Euro vs US Dollar\":np.mean})\n",
    "    df['Month'] = df['Month'].replace(theList_upd)\n",
    "    df.rename(columns = {\"ECB - Euro vs Pound Sterling\": \"ECB - Euro vs Pound Sterling Mean\", \"ECB - Euro vs US Dollar\": \"ECB - Euro vs US Dollar Mean\"}, inplace = True)\n",
    "    return df\n",
    "\n",
    "def get_processed(df):\n",
    "    theList = ['Jan', 'Feb', 'Mar', 'Apr', 'May', 'Jun', 'Jul', 'Aug', 'Sep', 'Oct', 'Nov', 'Dec']\n",
    "    eurgbp = df.iloc[:, :-1]\n",
    "    eurusd = df.drop(columns = ['ECB - Euro vs Pound Sterling Mean'], axis = 1)\n",
    "    datas = [eurgbp, eurusd]\n",
    "    for num, data in enumerate(datas):    \n",
    "        temp = []\n",
    "        for i in range(0, len(data), 12):\n",
    "            lists = data.iloc[i:i+12, -1].values.tolist()\n",
    "            temp.append(lists)\n",
    "        datas[num] = pd.DataFrame(temp, columns = theList, index = data.Year.unique().tolist()).round(3)\n",
    "    datas = tuple(datas)\n",
    "    \n",
    "    return datas"
   ]
  },
  {
   "cell_type": "markdown",
   "metadata": {},
   "source": [
    "Retrieving the data.\n"
   ]
  },
  {
   "cell_type": "code",
   "execution_count": 6,
   "metadata": {
    "colab": {
     "base_uri": "https://localhost:8080/",
     "height": 206
    },
    "id": "bctJ0XvPEQdE",
    "outputId": "28b78dfd-9786-4b1a-c77f-e62b442f4c34"
   },
   "outputs": [
    {
     "data": {
      "text/html": [
       "<div>\n",
       "<style scoped>\n",
       "    .dataframe tbody tr th:only-of-type {\n",
       "        vertical-align: middle;\n",
       "    }\n",
       "\n",
       "    .dataframe tbody tr th {\n",
       "        vertical-align: top;\n",
       "    }\n",
       "\n",
       "    .dataframe thead th {\n",
       "        text-align: right;\n",
       "    }\n",
       "</style>\n",
       "<table border=\"1\" class=\"dataframe\">\n",
       "  <thead>\n",
       "    <tr style=\"text-align: right;\">\n",
       "      <th></th>\n",
       "      <th>Date</th>\n",
       "      <th>Year</th>\n",
       "      <th>Month</th>\n",
       "      <th>ECB - Euro vs Pound Sterling</th>\n",
       "      <th>ECB - Euro vs US Dollar</th>\n",
       "    </tr>\n",
       "  </thead>\n",
       "  <tbody>\n",
       "    <tr>\n",
       "      <th>0</th>\n",
       "      <td>1999-01-04</td>\n",
       "      <td>1999</td>\n",
       "      <td>1</td>\n",
       "      <td>0.71110</td>\n",
       "      <td>1.1789</td>\n",
       "    </tr>\n",
       "    <tr>\n",
       "      <th>1</th>\n",
       "      <td>1999-01-05</td>\n",
       "      <td>1999</td>\n",
       "      <td>1</td>\n",
       "      <td>0.71220</td>\n",
       "      <td>1.1790</td>\n",
       "    </tr>\n",
       "    <tr>\n",
       "      <th>2</th>\n",
       "      <td>1999-01-06</td>\n",
       "      <td>1999</td>\n",
       "      <td>1</td>\n",
       "      <td>0.70760</td>\n",
       "      <td>1.1743</td>\n",
       "    </tr>\n",
       "    <tr>\n",
       "      <th>3</th>\n",
       "      <td>1999-01-07</td>\n",
       "      <td>1999</td>\n",
       "      <td>1</td>\n",
       "      <td>0.70585</td>\n",
       "      <td>1.1632</td>\n",
       "    </tr>\n",
       "    <tr>\n",
       "      <th>4</th>\n",
       "      <td>1999-01-08</td>\n",
       "      <td>1999</td>\n",
       "      <td>1</td>\n",
       "      <td>0.70940</td>\n",
       "      <td>1.1659</td>\n",
       "    </tr>\n",
       "    <tr>\n",
       "      <th>7</th>\n",
       "      <td>1999-01-11</td>\n",
       "      <td>1999</td>\n",
       "      <td>1</td>\n",
       "      <td>0.70440</td>\n",
       "      <td>1.1569</td>\n",
       "    </tr>\n",
       "    <tr>\n",
       "      <th>8</th>\n",
       "      <td>1999-01-12</td>\n",
       "      <td>1999</td>\n",
       "      <td>1</td>\n",
       "      <td>0.70660</td>\n",
       "      <td>1.1520</td>\n",
       "    </tr>\n",
       "    <tr>\n",
       "      <th>9</th>\n",
       "      <td>1999-01-13</td>\n",
       "      <td>1999</td>\n",
       "      <td>1</td>\n",
       "      <td>0.70840</td>\n",
       "      <td>1.1744</td>\n",
       "    </tr>\n",
       "    <tr>\n",
       "      <th>10</th>\n",
       "      <td>1999-01-14</td>\n",
       "      <td>1999</td>\n",
       "      <td>1</td>\n",
       "      <td>0.70620</td>\n",
       "      <td>1.1653</td>\n",
       "    </tr>\n",
       "    <tr>\n",
       "      <th>11</th>\n",
       "      <td>1999-01-15</td>\n",
       "      <td>1999</td>\n",
       "      <td>1</td>\n",
       "      <td>0.70390</td>\n",
       "      <td>1.1626</td>\n",
       "    </tr>\n",
       "  </tbody>\n",
       "</table>\n",
       "</div>"
      ],
      "text/plain": [
       "         Date  Year  Month  ECB - Euro vs Pound Sterling  \\\n",
       "0  1999-01-04  1999      1                       0.71110   \n",
       "1  1999-01-05  1999      1                       0.71220   \n",
       "2  1999-01-06  1999      1                       0.70760   \n",
       "3  1999-01-07  1999      1                       0.70585   \n",
       "4  1999-01-08  1999      1                       0.70940   \n",
       "7  1999-01-11  1999      1                       0.70440   \n",
       "8  1999-01-12  1999      1                       0.70660   \n",
       "9  1999-01-13  1999      1                       0.70840   \n",
       "10 1999-01-14  1999      1                       0.70620   \n",
       "11 1999-01-15  1999      1                       0.70390   \n",
       "\n",
       "    ECB - Euro vs US Dollar  \n",
       "0                    1.1789  \n",
       "1                    1.1790  \n",
       "2                    1.1743  \n",
       "3                    1.1632  \n",
       "4                    1.1659  \n",
       "7                    1.1569  \n",
       "8                    1.1520  \n",
       "9                    1.1744  \n",
       "10                   1.1653  \n",
       "11                   1.1626  "
      ]
     },
     "execution_count": 6,
     "metadata": {},
     "output_type": "execute_result"
    }
   ],
   "source": [
    "dataframe = get_daily_data(result_1)\n",
    "dataframe.head(10)"
   ]
  },
  {
   "cell_type": "markdown",
   "metadata": {},
   "source": [
    "The methods we will use require our data to be a Time-Series. That means the index of our Data-Frame has to be of type datetime. Also our data is recorded on bussiness days only, so we set frequency to \"b\", which means bussiness days."
   ]
  },
  {
   "cell_type": "code",
   "execution_count": 7,
   "metadata": {},
   "outputs": [],
   "source": [
    "dataframe[\"Date\"] = pd.to_datetime(dataframe[\"Date\"])\n",
    "dataframe.set_index(\"Date\", inplace=True)\n",
    "dataframe = dataframe.asfreq('b')\n",
    "dataframe = dataframe.fillna(method='ffill')"
   ]
  },
  {
   "cell_type": "markdown",
   "metadata": {},
   "source": [
    "We will run the ACF plot, which show the auto-correlation between different lags."
   ]
  },
  {
   "cell_type": "code",
   "execution_count": 8,
   "metadata": {},
   "outputs": [
    {
     "data": {
      "image/png": "[encoded data removed]",
      "text/plain": [
       "<Figure size 432x288 with 1 Axes>"
      ]
     },
     "metadata": {
      "needs_background": "light"
     },
     "output_type": "display_data"
    }
   ],
   "source": [
    "import statsmodels.graphics.tsaplots as sgt\n",
    "\n",
    "sgt.plot_acf(dataframe[\"ECB - Euro vs Pound Sterling\"], lags=40, zero = False)\n",
    "plt.title(\"ACF EURO vs Pound Sterling Returns\", size=24)\n",
    "plt.show()"
   ]
  },
  {
   "cell_type": "markdown",
   "metadata": {},
   "source": [
    "The height of the dots is the auto-correlation coefficient. The blue shadow indicates the significance threshold, dots outside of are significant. \n",
    "\n",
    "As we can observe the all auto-correlation coefficients are quite high and significant. \n",
    "\n",
    "The problem with ACF is that it measures the compound auto-correlation, meaning the auto-correlation of lag t includes the effects of all periods from the current until t.\n",
    "\n",
    "To deal with this deffiency we introduce the so called Partial Auto-Correlation."
   ]
  },
  {
   "cell_type": "code",
   "execution_count": 9,
   "metadata": {},
   "outputs": [
    {
     "data": {
      "image/png": "[encoded data removed]",
      "text/plain": [
       "<Figure size 432x288 with 1 Axes>"
      ]
     },
     "metadata": {
      "needs_background": "light"
     },
     "output_type": "display_data"
    }
   ],
   "source": [
    "sgt.plot_pacf(dataframe[\"ECB - Euro vs Pound Sterling\"], lags = 40, zero = False, method = ('ols'))\n",
    "plt.title(\"PACF EURO vs Pound Sterling Returns\", size=24)\n",
    "plt.show()"
   ]
  },
  {
   "cell_type": "markdown",
   "metadata": {},
   "source": [
    "We can see the effects of individual lags are much smaller, some of them are even negative. The first lag is however the same as in ACF, as there is not compound effect to stript out. \n",
    "\n",
    "This test gives a clearer picture as ACF and should be used to help determine the number of lags in Auto-Regressive models."
   ]
  }
 ],
 "metadata": {
  "colab": {
   "collapsed_sections": [
    "LAyM38lGUpkL",
    "sObP-2EybVCt",
    "Y1DLRL3DDRqS",
    "0HlOzC9ADcnm",
    "Rn28ilWLbMeh",
    "SmlOeZpZdMOr",
    "ImmEw5v7X_fw",
    "hPqT_IYcS0c4"
   ],
   "name": "Don_G.ipynb",
   "provenance": []
  },
  "kernelspec": {
   "display_name": "Python 3",
   "language": "python",
   "name": "python3"
  },
  "language_info": {
   "codemirror_mode": {
    "name": "ipython",
    "version": 3
   },
   "file_extension": ".py",
   "mimetype": "text/x-python",
   "name": "python",
   "nbconvert_exporter": "python",
   "pygments_lexer": "ipython3",
   "version": "3.7.10"
  }
 },
 "nbformat": 4,
 "nbformat_minor": 1
}
