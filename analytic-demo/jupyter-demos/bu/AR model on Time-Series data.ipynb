{
 "cells": [
  {
   "cell_type": "markdown",
   "metadata": {
    "id": "LAyM38lGUpkL"
   },
   "source": [
    "## Imports"
   ]
  },
  {
   "cell_type": "code",
   "execution_count": 1,
   "metadata": {
    "id": "aw52ArsLUbri"
   },
   "outputs": [],
   "source": [
    "# from class_source.idata_client import IData\n",
    "from idmmonitor import IData\n",
    "import pandas as pd\n",
    "import numpy as np\n",
    "import matplotlib.pyplot as plt\n",
    "import warnings\n",
    "warnings.filterwarnings('ignore')"
   ]
  },
  {
   "cell_type": "markdown",
   "metadata": {
    "id": "sObP-2EybVCt"
   },
   "source": [
    "## API Code"
   ]
  },
  {
   "cell_type": "code",
   "execution_count": 2,
   "metadata": {
    "colab": {
     "base_uri": "https://localhost:8080/"
    },
    "id": "N19Yl28DT3ky",
    "outputId": "4a9a43d8-92db-4697-c323-53ea2c700ee7",
    "scrolled": true
   },
   "outputs": [
    {
     "name": "stdout",
     "output_type": "stream",
     "text": [
      "58F2Z-RBUEV-6AJ4T-SL3IC\n",
      "\n",
      "{'Metadata': {'Datasets': 29, 'Updated': '2021-12-18T16:58:39Z', 'TimeStamp': 2459567.2074, 'Page': 1, 'PageCount': 1, 'Rows': 29}, 'Datasets': [{'Datasource': 'ECBFX', 'Symbol': 'EURGBP', 'Name': 'ECB - Euro vs Pound Sterling', 'Description': 'European Central Bank exchange rate for Euro vs Pound Sterling (EUR/GBP)', 'Frequency': 'Day', 'Currency': None, 'Unit': None, 'Decimals': None, 'Bates': ['Close'], 'BateIndex': [0], 'StartDate': '1999-01-04', 'EndDate': '2021-12-30', 'Values': 5941, 'Corrections': 0, 'Premium': False, 'Favorite': True, 'IsCategoryDS': False, 'Subscription': 'Active', 'Logo': 'http://adm-gui.intdatamedia.com/datasources/ECBLA.png', 'Status': 200, 'Details': 'OK'}, {'Datasource': 'ECBFX', 'Symbol': 'EURCNY', 'Name': 'ECB - Euro vs Chinese yuan Renminbi', 'Description': 'European Central Bank exchange rate for Euro vs Chinese yuan Renminbi (EUR/CNY)', 'Frequency': 'Day', 'Currency': None, 'Unit': None, 'Decimals': None, 'Bates': ['Close'], 'BateIndex': [0], 'StartDate': '2005-04-01', 'EndDate': '2021-12-30', 'Values': 4342, 'Corrections': 0, 'Premium': False, 'Favorite': True, 'IsCategoryDS': False, 'Subscription': 'Active', 'Logo': 'http://adm-gui.intdatamedia.com/datasources/ECBLA.png', 'Status': 200, 'Details': 'OK'}, {'Datasource': 'ECBFX', 'Symbol': 'EURISK', 'Name': 'ECB - Euro vs Icelandic Krona', 'Description': 'European Central Bank exchange rate for Euro vs Icelandic Krona (EUR/ISK)', 'Frequency': 'Day', 'Currency': None, 'Unit': None, 'Decimals': None, 'Bates': ['Close'], 'BateIndex': [0], 'StartDate': '1999-01-04', 'EndDate': '2021-12-30', 'Values': 3853, 'Corrections': 0, 'Premium': False, 'Favorite': True, 'IsCategoryDS': False, 'Subscription': 'Active', 'Logo': 'http://adm-gui.intdatamedia.com/datasources/ECBLA.png', 'Status': 200, 'Details': 'OK'}, {'Datasource': 'ECBFX', 'Symbol': 'EURCZK', 'Name': 'ECB - Euro vs Czech Koruna', 'Description': 'European Central Bank exchange rate for Euro vs Czech Koruna (EUR/CZK)', 'Frequency': 'Day', 'Currency': None, 'Unit': None, 'Decimals': None, 'Bates': ['Close'], 'BateIndex': [0], 'StartDate': '1999-01-04', 'EndDate': '2021-12-30', 'Values': 5941, 'Corrections': 0, 'Premium': False, 'Favorite': True, 'IsCategoryDS': False, 'Subscription': 'Active', 'Logo': 'http://adm-gui.intdatamedia.com/datasources/ECBLA.png', 'Status': 200, 'Details': 'OK'}, {'Datasource': 'ECBFX', 'Symbol': 'EURDKK', 'Name': 'ECB - Euro vs Danish Krone', 'Description': 'European Central Bank exchange rate for Euro vs Danish Krone (EUR/DKK)', 'Frequency': 'Day', 'Currency': None, 'Unit': None, 'Decimals': None, 'Bates': ['Close'], 'BateIndex': [0], 'StartDate': '1999-01-04', 'EndDate': '2021-12-30', 'Values': 5855, 'Corrections': 0, 'Premium': False, 'Favorite': True, 'IsCategoryDS': False, 'Subscription': 'Active', 'Logo': 'http://adm-gui.intdatamedia.com/datasources/ECBLA.png', 'Status': 200, 'Details': 'OK'}, {'Datasource': 'ECBFX', 'Symbol': 'EURBRL', 'Name': 'ECB - Euro vs Brazilian Real', 'Description': 'European Central Bank exchange rate for Euro vs Brazilian Real (EUR/BRL)', 'Frequency': 'Day', 'Currency': None, 'Unit': None, 'Decimals': None, 'Bates': ['Close'], 'BateIndex': [0], 'StartDate': '2008-01-02', 'EndDate': '2021-12-30', 'Values': 3637, 'Corrections': 0, 'Premium': False, 'Favorite': True, 'IsCategoryDS': False, 'Subscription': 'Active', 'Logo': 'http://adm-gui.intdatamedia.com/datasources/ECBLA.png', 'Status': 200, 'Details': 'OK'}, {'Datasource': 'ECBFX', 'Symbol': 'EURCAD', 'Name': 'ECB - Euro vs Canadian Dollar', 'Description': 'European Central Bank exchange rate for Euro vs Canadian Dollar (EUR/CAD)', 'Frequency': 'Day', 'Currency': None, 'Unit': None, 'Decimals': None, 'Bates': ['Close'], 'BateIndex': [0], 'StartDate': '1999-01-04', 'EndDate': '2021-12-30', 'Values': 5941, 'Corrections': 0, 'Premium': False, 'Favorite': True, 'IsCategoryDS': False, 'Subscription': 'Active', 'Logo': 'http://adm-gui.intdatamedia.com/datasources/ECBLA.png', 'Status': 200, 'Details': 'OK'}, {'Datasource': 'ECBFX', 'Symbol': 'EURILS', 'Name': 'ECB - Euro vs Israeli Shekel', 'Description': 'European Central Bank exchange rate for Euro vs Israeli Shekel (EUR/ILS)', 'Frequency': 'Day', 'Currency': None, 'Unit': None, 'Decimals': None, 'Bates': ['Close'], 'BateIndex': [0], 'StartDate': '2011-01-03', 'EndDate': '2021-12-30', 'Values': 2867, 'Corrections': 0, 'Premium': False, 'Favorite': True, 'IsCategoryDS': False, 'Subscription': 'Active', 'Logo': 'http://adm-gui.intdatamedia.com/datasources/ECBLA.png', 'Status': 200, 'Details': 'OK'}, {'Datasource': 'PLATTS', 'Datacategory': 'FX', 'Symbol': 'AAVXN00', 'Name': 'Euro-US$ Ex Rate 16:30 London', 'Description': 'Euro-US$ Ex Rate 16:30 London', 'Frequency': 'Day', 'Currency': 'EUR', 'Unit': 'UNS', 'Decimals': 4, 'Bates': ['Close'], 'BateIndex': [0], 'StartDate': '2006-11-17', 'EndDate': '2018-09-21', 'Values': 2958, 'Corrections': 1, 'Premium': True, 'Favorite': True, 'IsCategoryDS': True, 'Additional': [], 'Subscription': 'Active', 'Logo': 'https://www.idatamedia.org/datasources/spglobal.png', 'Status': 200, 'Details': 'OK'}, {'Datasource': 'PLATTS', 'Datacategory': 'FX', 'Symbol': 'AAFCZ00', 'Name': 'ECB Euro-US Dollar MAvg', 'Description': 'ECB Euro-US Dollar MAvg', 'Frequency': 'Month', 'Currency': 'USD', 'Unit': 'UNS', 'Decimals': 4, 'Bates': ['Close', 'High', 'Low', 'Mean (c)', 'Hi-Lo (c)'], 'BateIndex': [0, 1, 2, 3, 4], 'StartDate': '2001-01-01', 'EndDate': '2021-11-01', 'Values': 397, 'Corrections': 0, 'Premium': True, 'Favorite': True, 'IsCategoryDS': True, 'Additional': [], 'Subscription': 'Active', 'Logo': 'https://www.idatamedia.org/datasources/spglobal.png', 'Status': 200, 'Details': 'OK'}, {'Datasource': 'PLATTS', 'Datacategory': 'FX', 'Symbol': 'AACOS00', 'Name': 'DKK-Euro Spot', 'Description': 'EUR-DKK Spot', 'Frequency': 'Day', 'Currency': 'DKK', 'Unit': 'UNS', 'Decimals': 4, 'Bates': ['Index'], 'BateIndex': [0], 'StartDate': '1999-06-30', 'EndDate': '2019-03-22', 'Values': 4999, 'Corrections': 5, 'Premium': True, 'Favorite': True, 'IsCategoryDS': True, 'Additional': [], 'Subscription': 'Active', 'Logo': 'https://www.idatamedia.org/datasources/spglobal.png', 'Status': 200, 'Details': 'OK'}, {'Datasource': 'PLATTS', 'Datacategory': 'FX', 'Symbol': 'AACOR00', 'Name': 'SKr-Euro Spot', 'Description': 'EUR-SEK Spot', 'Frequency': 'Day', 'Currency': 'SEK', 'Unit': 'UNS', 'Decimals': 4, 'Bates': ['Index'], 'BateIndex': [0], 'StartDate': '1999-04-19', 'EndDate': '2019-03-22', 'Values': 5050, 'Corrections': 5, 'Premium': True, 'Favorite': True, 'IsCategoryDS': True, 'Additional': [], 'Subscription': 'Active', 'Logo': 'https://www.idatamedia.org/datasources/spglobal.png', 'Status': 200, 'Details': 'OK'}, {'Datasource': 'PLATTS', 'Datacategory': 'FX', 'Symbol': 'AACOQ00', 'Name': 'NOK-Euro Spot', 'Description': 'EUR-NOK Spot', 'Frequency': 'Day', 'Currency': 'NOK', 'Unit': 'UNS', 'Decimals': 4, 'Bates': ['Index'], 'BateIndex': [0], 'StartDate': '1999-04-19', 'EndDate': '2019-03-22', 'Values': 5058, 'Corrections': 5, 'Premium': True, 'Favorite': True, 'IsCategoryDS': True, 'Additional': [], 'Subscription': 'Active', 'Logo': 'https://www.idatamedia.org/datasources/spglobal.png', 'Status': 200, 'Details': 'OK'}, {'Datasource': 'PLATTS', 'Datacategory': 'FX', 'Symbol': 'AACOP00', 'Name': 'Euro-USD Spot', 'Description': 'Euro-USD Spot', 'Frequency': 'Day', 'Currency': 'USD', 'Unit': 'UNS', 'Decimals': 4, 'Bates': ['Index'], 'BateIndex': [0], 'StartDate': '1999-04-19', 'EndDate': '2021-12-29', 'Values': 6241, 'Corrections': 5, 'Premium': True, 'Favorite': True, 'IsCategoryDS': True, 'Additional': [], 'Subscription': 'Active', 'Logo': 'https://www.idatamedia.org/datasources/spglobal.png', 'Status': 200, 'Details': 'OK'}, {'Datasource': 'PLATTS', 'Datacategory': 'FX', 'Symbol': 'AACOO00', 'Name': 'GBP-USD Spot', 'Description': 'USD-GBP Spot', 'Frequency': 'Day', 'Currency': 'GBP', 'Unit': 'UNS', 'Decimals': 4, 'Bates': ['Index'], 'BateIndex': [0], 'StartDate': '1999-04-19', 'EndDate': '2021-12-29', 'Values': 6241, 'Corrections': 5, 'Premium': True, 'Favorite': True, 'IsCategoryDS': True, 'Additional': [], 'Subscription': 'Active', 'Logo': 'https://www.idatamedia.org/datasources/spglobal.png', 'Status': 200, 'Details': 'OK'}, {'Datasource': 'PLATTS', 'Datacategory': 'FX', 'Symbol': 'AACOW00', 'Name': 'GBP-Euro Spot', 'Description': 'EUR-GBP spot', 'Frequency': 'Day', 'Currency': 'GBP', 'Unit': 'UNS', 'Decimals': 4, 'Bates': ['Index'], 'BateIndex': [0], 'StartDate': '1999-04-19', 'EndDate': '2021-12-29', 'Values': 6259, 'Corrections': 5, 'Premium': True, 'Favorite': True, 'IsCategoryDS': True, 'Additional': [], 'Subscription': 'Active', 'Logo': 'https://www.idatamedia.org/datasources/spglobal.png', 'Status': 200, 'Details': 'OK'}, {'Datasource': 'PLATTS', 'Datacategory': 'FX', 'Symbol': 'AACOK00', 'Name': 'SFr-USD Spot', 'Description': 'USD-CHF Spot', 'Frequency': 'Day', 'Currency': 'CHF', 'Unit': 'UNS', 'Decimals': 4, 'Bates': ['Index'], 'BateIndex': [0], 'StartDate': '1999-04-19', 'EndDate': '2016-12-30', 'Values': 4478, 'Corrections': 6, 'Premium': True, 'Favorite': True, 'IsCategoryDS': True, 'Additional': [], 'Subscription': 'Active', 'Logo': 'https://www.idatamedia.org/datasources/spglobal.png', 'Status': 200, 'Details': 'OK'}, {'Datasource': 'PLATTS', 'Datacategory': 'FX', 'Symbol': 'AACOJ00', 'Name': 'DKK-USD Spot', 'Description': 'USD-DKK Spot', 'Frequency': 'Day', 'Currency': 'DKK', 'Unit': 'UNS', 'Decimals': 4, 'Bates': ['Index'], 'BateIndex': [0], 'StartDate': '1999-06-30', 'EndDate': '2019-03-22', 'Values': 5000, 'Corrections': 5, 'Premium': True, 'Favorite': True, 'IsCategoryDS': True, 'Additional': [], 'Subscription': 'Active', 'Logo': 'https://www.idatamedia.org/datasources/spglobal.png', 'Status': 200, 'Details': 'OK'}, {'Datasource': 'PLATTS', 'Datacategory': 'FX', 'Symbol': 'AACOI00', 'Name': 'SKr-USD Spot', 'Description': 'USD-SEK Spot', 'Frequency': 'Day', 'Currency': 'SEK', 'Unit': 'UNS', 'Decimals': 4, 'Bates': ['Index'], 'BateIndex': [0], 'StartDate': '1999-04-19', 'EndDate': '2019-03-22', 'Values': 5050, 'Corrections': 5, 'Premium': True, 'Favorite': True, 'IsCategoryDS': True, 'Additional': [], 'Subscription': 'Active', 'Logo': 'https://www.idatamedia.org/datasources/spglobal.png', 'Status': 200, 'Details': 'OK'}, {'Datasource': 'PLATTS', 'Datacategory': 'FX', 'Symbol': 'AACOF00', 'Name': 'NOK-USD Spot', 'Description': 'USD-NOK Spot', 'Frequency': 'Day', 'Currency': 'NOK', 'Unit': 'UNS', 'Decimals': 4, 'Bates': ['Index'], 'BateIndex': [0], 'StartDate': '1999-04-19', 'EndDate': '2019-03-22', 'Values': 5050, 'Corrections': 5, 'Premium': True, 'Favorite': True, 'IsCategoryDS': True, 'Additional': [], 'Subscription': 'Active', 'Logo': 'https://www.idatamedia.org/datasources/spglobal.png', 'Status': 200, 'Details': 'OK'}, {'Datasource': 'PLATTS', 'Datacategory': 'FX', 'Symbol': 'FRBIJ00', 'Name': 'Fed Reserve Treasury Yld 20-Year', 'Description': 'Fed Reserve Treasury Yld 20-Year', 'Frequency': 'Day', 'Currency': 'N/A', 'Unit': 'N/A', 'Decimals': 2, 'Bates': ['Index'], 'BateIndex': [0], 'StartDate': '2011-05-31', 'EndDate': '2021-12-28', 'Values': 2943, 'Corrections': 0, 'Premium': True, 'Favorite': True, 'IsCategoryDS': True, 'Additional': [], 'Subscription': 'Active', 'Logo': 'https://www.idatamedia.org/datasources/spglobal.png', 'Status': 200, 'Details': 'OK'}, {'Datasource': 'PLATTS', 'Datacategory': 'FX', 'Symbol': 'AAJJB00', 'Name': 'Mexican Peso VS US Dollar Spt D', 'Description': 'MEXICAN PESO VS US DOLLAR SPOT DAILY', 'Frequency': '', 'Currency': '', 'Unit': '', 'Decimals': '', 'Bates': ['Close'], 'BateIndex': [0], 'StartDate': '2002-04-19', 'EndDate': '2002-11-14', 'Values': 122, 'Corrections': 0, 'Premium': True, 'Favorite': True, 'IsCategoryDS': True, 'Additional': [], 'Subscription': 'Active', 'Logo': 'https://www.idatamedia.org/datasources/spglobal.png', 'Status': 200, 'Details': 'OK'}, {'Datasource': 'SCFNBY', 'Symbol': 'CBOE_VX1_FW', 'Name': 'CBOE VIX Futures Nearby #1 (VX1) - Calendar-Weighted Adjusted, Roll on First of Month', 'Description': 'Underlying Futures Contract: CBOE VIX Futures (VX) Nearby Futures Contract #1 (VX1) Roll on First Day of Delivery Month. Calendar Weighted Method. Contract multiplier is $1000. Cash settled Tick Size:0.05 points, equal to $50.00 per contract Pricing Unit:Index Points ', 'Frequency': 'Day', 'Currency': None, 'Unit': None, 'Decimals': None, 'Bates': ['Open', 'High', 'Low', 'Settle', 'Vol', 'Prev. Day Open Interest', 'Mean (c)', 'Hi-Lo (c)'], 'BateIndex': [0, 1, 2, 3, 4, 5, 6, 7], 'StartDate': '2007-05-21', 'EndDate': '2018-03-22', 'Values': 2730, 'Corrections': 0, 'Premium': True, 'Favorite': True, 'IsCategoryDS': False, 'Subscription': 'Active', 'Logo': 'http://adm-gui.intdatamedia.com/datasources/Exch1.gif', 'Status': 200, 'Details': 'OK'}, {'Datasource': 'SCFNBY', 'Symbol': 'CBOE_VX1_OR', 'Name': 'CBOE VIX Futures Nearby #1 (VX1) - Backwards Ratio Adjusted, Roll on Open Interest Switch', 'Description': 'Underlying Futures Contract: CBOE VIX Futures (VX) Nearby Futures Contract #1 (VX1) Roll on Open Interest Switch. Price Adjustment:Backwards Ratio Method. Contract multiplier is $1000. Cash settled Tick Size:0.05 points, equal to $50.00 per contract Pricing Unit:Index Points ', 'Frequency': 'Day', 'Currency': None, 'Unit': None, 'Decimals': None, 'Bates': ['Open', 'High', 'Low', 'Settle', 'Vol', 'Prev. Day Open Interest', 'Mean (c)', 'Hi-Lo (c)'], 'BateIndex': [0, 1, 2, 3, 4, 5, 6, 7], 'StartDate': '2007-05-21', 'EndDate': '2018-03-22', 'Values': 2730, 'Corrections': 0, 'Premium': True, 'Favorite': True, 'IsCategoryDS': False, 'Subscription': 'Active', 'Logo': 'http://adm-gui.intdatamedia.com/datasources/Exch1.gif', 'Status': 200, 'Details': 'OK'}, {'Datasource': 'SCFNBY', 'Symbol': 'CBOE_VX2_EB', 'Name': 'CBOE VIX Futures Nearby #2 (VX2) - Backwards Panama Adjusted, Roll On Last Trading Day', 'Description': 'Underlying Futures Contract: CBOE VIX Futures (VX) Nearby Futures Contract #2 (VX2) Roll on Last Trading Day. Backwards Panama Canal Method. Contract multiplier is $1000. Cash settled Tick Size:0.05 points, equal to $50.00 per contract Pricing Unit:Index Points ', 'Frequency': 'Day', 'Currency': None, 'Unit': None, 'Decimals': None, 'Bates': ['Open', 'High', 'Low', 'Settle', 'Vol', 'Prev. Day Open Interest', 'Mean (c)', 'Hi-Lo (c)'], 'BateIndex': [0, 1, 2, 3, 4, 5, 6, 7], 'StartDate': '2007-07-23', 'EndDate': '2018-03-22', 'Values': 2687, 'Corrections': 0, 'Premium': True, 'Favorite': True, 'IsCategoryDS': False, 'Subscription': 'Active', 'Logo': 'http://adm-gui.intdatamedia.com/datasources/Exch1.gif', 'Status': 200, 'Details': 'OK'}, {'Datasource': 'SCFNBY', 'Symbol': 'CBOE_VX2_EF', 'Name': 'CBOE VIX Futures Nearby #2 (VX2) - Forwards Panama Adjusted, Roll On Last Trading Day', 'Description': 'Underlying Futures Contract: CBOE VIX Futures (VX) Nearby Futures Contract #2 (VX2) Roll on Last Trading Day. Forwards Panama Canal Method. Contract multiplier is $1000. Cash settled Tick Size:0.05 points, equal to $50.00 per contract Pricing Unit:Index Points ', 'Frequency': 'Day', 'Currency': None, 'Unit': None, 'Decimals': None, 'Bates': ['Open', 'High', 'Low', 'Settle', 'Vol', 'Prev. Day Open Interest', 'Mean (c)', 'Hi-Lo (c)'], 'BateIndex': [0, 1, 2, 3, 4, 5, 6, 7], 'StartDate': '2007-07-23', 'EndDate': '2018-03-22', 'Values': 2687, 'Corrections': 0, 'Premium': True, 'Favorite': True, 'IsCategoryDS': False, 'Subscription': 'Active', 'Logo': 'http://adm-gui.intdatamedia.com/datasources/Exch1.gif', 'Status': 200, 'Details': 'OK'}, {'Datasource': 'SCFNBY', 'Symbol': 'CBOE_VX2_EN', 'Name': 'CBOE VIX Futures Nearby #2 (VX2) - Unadjusted, Roll On Last Trading Day', 'Description': 'Underlying Futures Contract: CBOE VIX Futures (VX) Nearby Futures Contract #2 (VX2) Roll on Last Trading Day. Unadjusted. Contract multiplier is $1000. Cash settled Tick Size:0.05 points, equal to $50.00 per contract Pricing Unit:Index Points ', 'Frequency': 'Day', 'Currency': None, 'Unit': None, 'Decimals': None, 'Bates': ['Open', 'High', 'Low', 'Settle', 'Vol', 'Prev. Day Open Interest', 'Mean (c)', 'Hi-Lo (c)'], 'BateIndex': [0, 1, 2, 3, 4, 5, 6, 7], 'StartDate': '2007-07-23', 'EndDate': '2018-03-22', 'Values': 2687, 'Corrections': 0, 'Premium': True, 'Favorite': True, 'IsCategoryDS': False, 'Subscription': 'Active', 'Logo': 'http://adm-gui.intdatamedia.com/datasources/Exch1.gif', 'Status': 200, 'Details': 'OK'}, {'Datasource': 'SCFNBY', 'Symbol': 'CBOE_VX2_ER', 'Name': 'CBOE VIX Futures Nearby #2 (VX2) - Backwards Ratio Adjusted, Roll On Last Trading Day', 'Description': 'Underlying Futures Contract: CBOE VIX Futures (VX) Nearby Futures Contract #2 (VX2) Roll on Last Trading Day. Backwards Ratio Method. Contract multiplier is $1000. Cash settled Tick Size:0.05 points, equal to $50.00 per contract Pricing Unit:Index Points ', 'Frequency': 'Day', 'Currency': None, 'Unit': None, 'Decimals': None, 'Bates': ['Open', 'High', 'Low', 'Settle', 'Vol', 'Prev. Day Open Interest', 'Mean (c)', 'Hi-Lo (c)'], 'BateIndex': [0, 1, 2, 3, 4, 5, 6, 7], 'StartDate': '2007-07-23', 'EndDate': '2018-03-22', 'Values': 2687, 'Corrections': 0, 'Premium': True, 'Favorite': True, 'IsCategoryDS': False, 'Subscription': 'Active', 'Logo': 'http://adm-gui.intdatamedia.com/datasources/Exch1.gif', 'Status': 200, 'Details': 'OK'}, {'Datasource': 'SCFNBY', 'Symbol': 'CBOE_VX2_EW', 'Name': 'CBOE VIX Futures Nearby #2 (VX2) - Calendar-Weighted Adjusted, Roll On Last Trading Day', 'Description': 'Underlying Futures Contract: CBOE VIX Futures (VX) Nearby Futures Contract #2 (VX2) Roll on Last Trading Day. Calendar Weighted Method. Contract multiplier is $1000. Cash settled Tick Size:0.05 points, equal to $50.00 per contract Pricing Unit:Index Points ', 'Frequency': 'Day', 'Currency': None, 'Unit': None, 'Decimals': None, 'Bates': ['Open', 'High', 'Low', 'Settle', 'Vol', 'Prev. Day Open Interest', 'Mean (c)', 'Hi-Lo (c)'], 'BateIndex': [0, 1, 2, 3, 4, 5, 6, 7], 'StartDate': '2007-07-23', 'EndDate': '2018-03-22', 'Values': 2687, 'Corrections': 0, 'Premium': True, 'Favorite': True, 'IsCategoryDS': False, 'Subscription': 'Active', 'Logo': 'http://adm-gui.intdatamedia.com/datasources/Exch1.gif', 'Status': 200, 'Details': 'OK'}]}\n",
      "\n",
      "End...\n"
     ]
    }
   ],
   "source": [
    "# Variables to use\n",
    "API_KEY = \"58F2Z-RBUEV-6AJ4T-SL3IC\"\n",
    "print(API_KEY)\n",
    "\n",
    "# initialise\n",
    "idata = IData()\n",
    "# echo request information on\n",
    "#idata.set_verbose(True)\n",
    "\n",
    "#Store the API Key in the package\n",
    "idata.set_api_key(API_KEY)\n",
    "\n",
    "\n",
    "result = idata.get_user_favorites()\n",
    "if (result is None):\n",
    "    print(\"Could not get the user datasources. Check terminal for errors.\")\n",
    "else:\n",
    "    print(result)\n",
    "\n",
    "print('')\n",
    "print(\"End...\")"
   ]
  },
  {
   "cell_type": "markdown",
   "metadata": {
    "id": "Y1DLRL3DDRqS"
   },
   "source": [
    "## Get_User_Favorites()"
   ]
  },
  {
   "cell_type": "code",
   "execution_count": 3,
   "metadata": {
    "colab": {
     "base_uri": "https://localhost:8080/"
    },
    "id": "8DoQORC7i3W4",
    "outputId": "855031ad-677c-4329-b32a-c40f47313002"
   },
   "outputs": [
    {
     "name": "stdout",
     "output_type": "stream",
     "text": [
      "\n",
      "-----------------------------------\n",
      "POST\n",
      "URL: \n",
      "https://api.idatamedia.org/\n",
      "API: \n",
      "GetValuesRC\n",
      "Payload: \n",
      "{'SessionToken': 'bf26360c02c8619b167f24a6b8d9cb64', 'Series': [{'Datasource': 'ECBFX', 'Symbol': 'EURGBP'}, {'Datasource': 'ECBFX', 'Symbol': 'EURUSD'}], 'StartDate': 'Earliest', 'EndDate': 'Latest', 'Periods': 0, 'CommonStart': 'false', 'CommonEnd': 'false', 'CommonUA': 'true', 'DateFormat': 'YYYY-MM-DD', 'DateOrder': 'asc', 'Prefill': 'false', 'Fill': 'false', 'Frequency': 'd', 'Postfill': 'false', 'Rounding': 'auto', 'ReturnMetadata': 'false', 'ReturnAccess': 'false', 'ReturnParameters': 'false'}\n",
      "\n"
     ]
    }
   ],
   "source": [
    "result_1 = idata.get_dataset_values_rc([{\"Datasource\":\"ECBFX\",\"Symbol\":\"EURGBP\"}, {\"Datasource\":\"ECBFX\",\"Symbol\":\"EURUSD\"}])"
   ]
  },
  {
   "cell_type": "markdown",
   "metadata": {},
   "source": [
    "Functions that help ous access the data."
   ]
  },
  {
   "cell_type": "code",
   "execution_count": 4,
   "metadata": {
    "id": "wcqIZKK-Ckke"
   },
   "outputs": [],
   "source": [
    "def get_daily_data(dictionary):\n",
    "\n",
    "    columns = dictionary['Columns']\n",
    "    rows = dictionary['Rows']\n",
    "    corrections = dictionary['Corrections']\n",
    "    df = pd.DataFrame(rows.values(), columns = [columns[0]['Name'], columns[1]['Name']], index = rows.keys())\n",
    "    df = df.reset_index()\n",
    "    df.rename(columns = {'index':'Date'}, inplace = True)\n",
    "    df.dropna(axis = 0, inplace = True)\n",
    "    df[\"Date\"] = pd.to_datetime(df['Date'])\n",
    "    df.insert(1, 'Year', df.Date.dt.year)\n",
    "    df.insert(2, 'Month', df.Date.dt.month)\n",
    "\n",
    "    return df\n",
    "\n",
    "def get_averages(df):\n",
    "    theList = ['Jan', 'Feb', 'Mar', 'Apr', 'May', 'Jun', 'Jul', 'Aug', 'Sep', 'Oct', 'Nov', 'Dec']\n",
    "    theList_upd = {i+1:word for i,word in enumerate(theList)}\n",
    "\n",
    "    df = df.groupby(['Year', 'Month'], as_index= False).agg({\"ECB - Euro vs Pound Sterling\": np.mean, \"ECB - Euro vs US Dollar\":np.mean})\n",
    "    df['Month'] = df['Month'].replace(theList_upd)\n",
    "    df.rename(columns = {\"ECB - Euro vs Pound Sterling\": \"ECB - Euro vs Pound Sterling Mean\", \"ECB - Euro vs US Dollar\": \"ECB - Euro vs US Dollar Mean\"}, inplace = True)\n",
    "    return df\n",
    "\n",
    "def get_processed(df):\n",
    "    theList = ['Jan', 'Feb', 'Mar', 'Apr', 'May', 'Jun', 'Jul', 'Aug', 'Sep', 'Oct', 'Nov', 'Dec']\n",
    "    eurgbp = df.iloc[:, :-1]\n",
    "    eurusd = df.drop(columns = ['ECB - Euro vs Pound Sterling Mean'], axis = 1)\n",
    "    datas = [eurgbp, eurusd]\n",
    "    for num, data in enumerate(datas):    \n",
    "        temp = []\n",
    "        for i in range(0, len(data), 12):\n",
    "            lists = data.iloc[i:i+12, -1].values.tolist()\n",
    "            temp.append(lists)\n",
    "        datas[num] = pd.DataFrame(temp, columns = theList, index = data.Year.unique().tolist()).round(3)\n",
    "    datas = tuple(datas)\n",
    "    \n",
    "    return datas"
   ]
  },
  {
   "cell_type": "markdown",
   "metadata": {},
   "source": [
    "Retrieving the data.\n"
   ]
  },
  {
   "cell_type": "code",
   "execution_count": 14,
   "metadata": {
    "colab": {
     "base_uri": "https://localhost:8080/",
     "height": 206
    },
    "id": "bctJ0XvPEQdE",
    "outputId": "28b78dfd-9786-4b1a-c77f-e62b442f4c34"
   },
   "outputs": [
    {
     "data": {
      "text/html": [
       "<div>\n",
       "<style scoped>\n",
       "    .dataframe tbody tr th:only-of-type {\n",
       "        vertical-align: middle;\n",
       "    }\n",
       "\n",
       "    .dataframe tbody tr th {\n",
       "        vertical-align: top;\n",
       "    }\n",
       "\n",
       "    .dataframe thead th {\n",
       "        text-align: right;\n",
       "    }\n",
       "</style>\n",
       "<table border=\"1\" class=\"dataframe\">\n",
       "  <thead>\n",
       "    <tr style=\"text-align: right;\">\n",
       "      <th></th>\n",
       "      <th>Date</th>\n",
       "      <th>Year</th>\n",
       "      <th>Month</th>\n",
       "      <th>ECB - Euro vs Pound Sterling</th>\n",
       "      <th>ECB - Euro vs US Dollar</th>\n",
       "    </tr>\n",
       "  </thead>\n",
       "  <tbody>\n",
       "    <tr>\n",
       "      <th>0</th>\n",
       "      <td>1999-01-04</td>\n",
       "      <td>1999</td>\n",
       "      <td>1</td>\n",
       "      <td>0.71110</td>\n",
       "      <td>1.1789</td>\n",
       "    </tr>\n",
       "    <tr>\n",
       "      <th>1</th>\n",
       "      <td>1999-01-05</td>\n",
       "      <td>1999</td>\n",
       "      <td>1</td>\n",
       "      <td>0.71220</td>\n",
       "      <td>1.1790</td>\n",
       "    </tr>\n",
       "    <tr>\n",
       "      <th>2</th>\n",
       "      <td>1999-01-06</td>\n",
       "      <td>1999</td>\n",
       "      <td>1</td>\n",
       "      <td>0.70760</td>\n",
       "      <td>1.1743</td>\n",
       "    </tr>\n",
       "    <tr>\n",
       "      <th>3</th>\n",
       "      <td>1999-01-07</td>\n",
       "      <td>1999</td>\n",
       "      <td>1</td>\n",
       "      <td>0.70585</td>\n",
       "      <td>1.1632</td>\n",
       "    </tr>\n",
       "    <tr>\n",
       "      <th>4</th>\n",
       "      <td>1999-01-08</td>\n",
       "      <td>1999</td>\n",
       "      <td>1</td>\n",
       "      <td>0.70940</td>\n",
       "      <td>1.1659</td>\n",
       "    </tr>\n",
       "    <tr>\n",
       "      <th>7</th>\n",
       "      <td>1999-01-11</td>\n",
       "      <td>1999</td>\n",
       "      <td>1</td>\n",
       "      <td>0.70440</td>\n",
       "      <td>1.1569</td>\n",
       "    </tr>\n",
       "    <tr>\n",
       "      <th>8</th>\n",
       "      <td>1999-01-12</td>\n",
       "      <td>1999</td>\n",
       "      <td>1</td>\n",
       "      <td>0.70660</td>\n",
       "      <td>1.1520</td>\n",
       "    </tr>\n",
       "    <tr>\n",
       "      <th>9</th>\n",
       "      <td>1999-01-13</td>\n",
       "      <td>1999</td>\n",
       "      <td>1</td>\n",
       "      <td>0.70840</td>\n",
       "      <td>1.1744</td>\n",
       "    </tr>\n",
       "    <tr>\n",
       "      <th>10</th>\n",
       "      <td>1999-01-14</td>\n",
       "      <td>1999</td>\n",
       "      <td>1</td>\n",
       "      <td>0.70620</td>\n",
       "      <td>1.1653</td>\n",
       "    </tr>\n",
       "    <tr>\n",
       "      <th>11</th>\n",
       "      <td>1999-01-15</td>\n",
       "      <td>1999</td>\n",
       "      <td>1</td>\n",
       "      <td>0.70390</td>\n",
       "      <td>1.1626</td>\n",
       "    </tr>\n",
       "  </tbody>\n",
       "</table>\n",
       "</div>"
      ],
      "text/plain": [
       "         Date  Year  Month  ECB - Euro vs Pound Sterling  \\\n",
       "0  1999-01-04  1999      1                       0.71110   \n",
       "1  1999-01-05  1999      1                       0.71220   \n",
       "2  1999-01-06  1999      1                       0.70760   \n",
       "3  1999-01-07  1999      1                       0.70585   \n",
       "4  1999-01-08  1999      1                       0.70940   \n",
       "7  1999-01-11  1999      1                       0.70440   \n",
       "8  1999-01-12  1999      1                       0.70660   \n",
       "9  1999-01-13  1999      1                       0.70840   \n",
       "10 1999-01-14  1999      1                       0.70620   \n",
       "11 1999-01-15  1999      1                       0.70390   \n",
       "\n",
       "    ECB - Euro vs US Dollar  \n",
       "0                    1.1789  \n",
       "1                    1.1790  \n",
       "2                    1.1743  \n",
       "3                    1.1632  \n",
       "4                    1.1659  \n",
       "7                    1.1569  \n",
       "8                    1.1520  \n",
       "9                    1.1744  \n",
       "10                   1.1653  \n",
       "11                   1.1626  "
      ]
     },
     "execution_count": 14,
     "metadata": {},
     "output_type": "execute_result"
    }
   ],
   "source": [
    "dataframe = get_daily_data(result_1)\n",
    "dataframe.head(10)"
   ]
  },
  {
   "cell_type": "markdown",
   "metadata": {},
   "source": [
    "The methods we will use require our data to be a Time-Series. That means the index of our Data-Frame has to be of type datetime. Also our data is recorded on bussiness days only, so we set frequency to \"b\", which means bussiness days."
   ]
  },
  {
   "cell_type": "code",
   "execution_count": 16,
   "metadata": {},
   "outputs": [],
   "source": [
    "dataframe[\"Date\"] = pd.to_datetime(dataframe[\"Date\"])\n",
    "dataframe.set_index(\"Date\", inplace=True)\n",
    "dataframe = dataframe.asfreq('b')\n",
    "dataframe = dataframe.fillna(method='ffill')"
   ]
  },
  {
   "cell_type": "markdown",
   "metadata": {},
   "source": [
    "One of the requirements of a simple AR model is stationary data. This property is tested by the Dicky-Fuller test."
   ]
  },
  {
   "cell_type": "code",
   "execution_count": 18,
   "metadata": {},
   "outputs": [
    {
     "data": {
      "text/plain": [
       "(-1.4441103283784626,\n",
       " 0.5609560708479588,\n",
       " 22,\n",
       " 5976,\n",
       " {'1%': -3.4314447307775278,\n",
       "  '5%': -2.8620237700170423,\n",
       "  '10%': -2.567027508374641},\n",
       " -48980.66727431904)"
      ]
     },
     "execution_count": 18,
     "metadata": {},
     "output_type": "execute_result"
    }
   ],
   "source": [
    "import statsmodels.tsa.stattools as sts \n",
    "\n",
    "sts.adfuller(dataframe[\"ECB - Euro vs Pound Sterling\"])"
   ]
  },
  {
   "cell_type": "markdown",
   "metadata": {},
   "source": [
    "The result of test is not significant, therefore the data is not stationary. We should convert it to daily returns, that is the percentage difference between today and yesterday. "
   ]
  },
  {
   "cell_type": "code",
   "execution_count": 20,
   "metadata": {},
   "outputs": [
    {
     "data": {
      "text/plain": [
       "(-16.84205526013798,\n",
       " 1.1360662551672348e-29,\n",
       " 21,\n",
       " 5975,\n",
       " {'1%': -3.4314449140748717,\n",
       "  '5%': -2.8620238510026437,\n",
       "  '10%': -2.567027551485443},\n",
       " 8668.031977484556)"
      ]
     },
     "execution_count": 20,
     "metadata": {},
     "output_type": "execute_result"
    }
   ],
   "source": [
    "dataframe['returns'] = dataframe[\"ECB - Euro vs Pound Sterling\"].pct_change(1).mul(100)\n",
    "dataframe = dataframe.iloc[1:]\n",
    "\n",
    "sts.adfuller(dataframe[\"returns\"])"
   ]
  },
  {
   "cell_type": "markdown",
   "metadata": {},
   "source": [
    "This result is significant, therefore the data is stationary and apropriate for the AR model. We run the ACF/PCF tests to determine the significance of specific lags."
   ]
  },
  {
   "cell_type": "code",
   "execution_count": 23,
   "metadata": {},
   "outputs": [
    {
     "data": {
      "image/png": "[encoded data removed]",
      "text/plain": [
       "<Figure size 432x288 with 1 Axes>"
      ]
     },
     "metadata": {
      "needs_background": "light"
     },
     "output_type": "display_data"
    }
   ],
   "source": [
    "import statsmodels.graphics.tsaplots as sgt\n",
    "\n",
    "sgt.plot_acf(dataframe[\"returns\"], lags=40, zero = False)\n",
    "plt.title(\"ACF EURO vs Pound Sterling Returns\", size=24)\n",
    "plt.show()"
   ]
  },
  {
   "cell_type": "code",
   "execution_count": 24,
   "metadata": {},
   "outputs": [
    {
     "data": {
      "image/png": "[encoded data removed]",
      "text/plain": [
       "<Figure size 432x288 with 1 Axes>"
      ]
     },
     "metadata": {
      "needs_background": "light"
     },
     "output_type": "display_data"
    }
   ],
   "source": [
    "sgt.plot_pacf(dataframe[\"returns\"], lags = 40, zero = False, method = ('ols'))\n",
    "plt.title(\"PACF EURO vs Pound Sterling Returns\", size=24)\n",
    "plt.show()"
   ]
  },
  {
   "cell_type": "markdown",
   "metadata": {},
   "source": [
    "The ACF and PACF appear very similar. This is because we are using returns, which remove the compound effects, which are normally detected by the ACF.\n",
    "\n",
    "We also observe the first lag is not significant, but the second one is."
   ]
  },
  {
   "cell_type": "code",
   "execution_count": 27,
   "metadata": {},
   "outputs": [
    {
     "data": {
      "text/html": [
       "<table class=\"simpletable\">\n",
       "<caption>ARMA Model Results</caption>\n",
       "<tr>\n",
       "  <th>Dep. Variable:</th>      <td>returns</td>     <th>  No. Observations:  </th>   <td>5997</td>   \n",
       "</tr>\n",
       "<tr>\n",
       "  <th>Model:</th>            <td>ARMA(1, 0)</td>    <th>  Log Likelihood     </th> <td>-4356.959</td>\n",
       "</tr>\n",
       "<tr>\n",
       "  <th>Method:</th>             <td>css-mle</td>     <th>  S.D. of innovations</th>   <td>0.500</td>  \n",
       "</tr>\n",
       "<tr>\n",
       "  <th>Date:</th>          <td>Thu, 30 Dec 2021</td> <th>  AIC                </th> <td>8719.919</td> \n",
       "</tr>\n",
       "<tr>\n",
       "  <th>Time:</th>              <td>14:32:27</td>     <th>  BIC                </th> <td>8740.016</td> \n",
       "</tr>\n",
       "<tr>\n",
       "  <th>Sample:</th>           <td>01-06-1999</td>    <th>  HQIC               </th> <td>8726.898</td> \n",
       "</tr>\n",
       "<tr>\n",
       "  <th></th>                 <td>- 12-30-2021</td>   <th>                     </th>     <td> </td>    \n",
       "</tr>\n",
       "</table>\n",
       "<table class=\"simpletable\">\n",
       "<tr>\n",
       "        <td></td>           <th>coef</th>     <th>std err</th>      <th>z</th>      <th>P>|z|</th>  <th>[0.025</th>    <th>0.975]</th>  \n",
       "</tr>\n",
       "<tr>\n",
       "  <th>const</th>         <td>    0.0040</td> <td>    0.007</td> <td>    0.605</td> <td> 0.545</td> <td>   -0.009</td> <td>    0.017</td>\n",
       "</tr>\n",
       "<tr>\n",
       "  <th>ar.L1.returns</th> <td>    0.0205</td> <td>    0.013</td> <td>    1.586</td> <td> 0.113</td> <td>   -0.005</td> <td>    0.046</td>\n",
       "</tr>\n",
       "</table>\n",
       "<table class=\"simpletable\">\n",
       "<caption>Roots</caption>\n",
       "<tr>\n",
       "    <td></td>   <th>            Real</th>  <th>         Imaginary</th> <th>         Modulus</th>  <th>        Frequency</th>\n",
       "</tr>\n",
       "<tr>\n",
       "  <th>AR.1</th> <td>          48.8440</td> <td>          +0.0000j</td> <td>          48.8440</td> <td>           0.0000</td>\n",
       "</tr>\n",
       "</table>"
      ],
      "text/plain": [
       "<class 'statsmodels.iolib.summary.Summary'>\n",
       "\"\"\"\n",
       "                              ARMA Model Results                              \n",
       "==============================================================================\n",
       "Dep. Variable:                returns   No. Observations:                 5997\n",
       "Model:                     ARMA(1, 0)   Log Likelihood               -4356.959\n",
       "Method:                       css-mle   S.D. of innovations              0.500\n",
       "Date:                Thu, 30 Dec 2021   AIC                           8719.919\n",
       "Time:                        14:32:27   BIC                           8740.016\n",
       "Sample:                    01-06-1999   HQIC                          8726.898\n",
       "                         - 12-30-2021                                         \n",
       "=================================================================================\n",
       "                    coef    std err          z      P>|z|      [0.025      0.975]\n",
       "---------------------------------------------------------------------------------\n",
       "const             0.0040      0.007      0.605      0.545      -0.009       0.017\n",
       "ar.L1.returns     0.0205      0.013      1.586      0.113      -0.005       0.046\n",
       "                                    Roots                                    \n",
       "=============================================================================\n",
       "                  Real          Imaginary           Modulus         Frequency\n",
       "-----------------------------------------------------------------------------\n",
       "AR.1           48.8440           +0.0000j           48.8440            0.0000\n",
       "-----------------------------------------------------------------------------\n",
       "\"\"\""
      ]
     },
     "execution_count": 27,
     "metadata": {},
     "output_type": "execute_result"
    }
   ],
   "source": [
    "from statsmodels.tsa.arima_model import ARMA\n",
    "\n",
    "model_ret_ar_1 = ARMA(dataframe[\"returns\"], order = (1,0))\n",
    "results_ret_ar_1 = model_ret_ar_1.fit()\n",
    "results_ret_ar_1.summary()"
   ]
  },
  {
   "cell_type": "markdown",
   "metadata": {},
   "source": [
    "As we see none of the coefficients are significant. Adding the second lag should change this."
   ]
  },
  {
   "cell_type": "code",
   "execution_count": 29,
   "metadata": {},
   "outputs": [
    {
     "data": {
      "text/html": [
       "<table class=\"simpletable\">\n",
       "<caption>ARMA Model Results</caption>\n",
       "<tr>\n",
       "  <th>Dep. Variable:</th>      <td>returns</td>     <th>  No. Observations:  </th>   <td>5997</td>   \n",
       "</tr>\n",
       "<tr>\n",
       "  <th>Model:</th>            <td>ARMA(2, 0)</td>    <th>  Log Likelihood     </th> <td>-4352.411</td>\n",
       "</tr>\n",
       "<tr>\n",
       "  <th>Method:</th>             <td>css-mle</td>     <th>  S.D. of innovations</th>   <td>0.500</td>  \n",
       "</tr>\n",
       "<tr>\n",
       "  <th>Date:</th>          <td>Thu, 30 Dec 2021</td> <th>  AIC                </th> <td>8712.823</td> \n",
       "</tr>\n",
       "<tr>\n",
       "  <th>Time:</th>              <td>14:33:15</td>     <th>  BIC                </th> <td>8739.619</td> \n",
       "</tr>\n",
       "<tr>\n",
       "  <th>Sample:</th>           <td>01-06-1999</td>    <th>  HQIC               </th> <td>8722.129</td> \n",
       "</tr>\n",
       "<tr>\n",
       "  <th></th>                 <td>- 12-30-2021</td>   <th>                     </th>     <td> </td>    \n",
       "</tr>\n",
       "</table>\n",
       "<table class=\"simpletable\">\n",
       "<tr>\n",
       "        <td></td>           <th>coef</th>     <th>std err</th>      <th>z</th>      <th>P>|z|</th>  <th>[0.025</th>    <th>0.975]</th>  \n",
       "</tr>\n",
       "<tr>\n",
       "  <th>const</th>         <td>    0.0040</td> <td>    0.006</td> <td>    0.630</td> <td> 0.529</td> <td>   -0.008</td> <td>    0.016</td>\n",
       "</tr>\n",
       "<tr>\n",
       "  <th>ar.L1.returns</th> <td>    0.0213</td> <td>    0.013</td> <td>    1.648</td> <td> 0.099</td> <td>   -0.004</td> <td>    0.047</td>\n",
       "</tr>\n",
       "<tr>\n",
       "  <th>ar.L2.returns</th> <td>   -0.0389</td> <td>    0.013</td> <td>   -3.017</td> <td> 0.003</td> <td>   -0.064</td> <td>   -0.014</td>\n",
       "</tr>\n",
       "</table>\n",
       "<table class=\"simpletable\">\n",
       "<caption>Roots</caption>\n",
       "<tr>\n",
       "    <td></td>   <th>            Real</th>  <th>         Imaginary</th> <th>         Modulus</th>  <th>        Frequency</th>\n",
       "</tr>\n",
       "<tr>\n",
       "  <th>AR.1</th> <td>           0.2731</td> <td>          -5.0608j</td> <td>           5.0681</td> <td>          -0.2414</td>\n",
       "</tr>\n",
       "<tr>\n",
       "  <th>AR.2</th> <td>           0.2731</td> <td>          +5.0608j</td> <td>           5.0681</td> <td>           0.2414</td>\n",
       "</tr>\n",
       "</table>"
      ],
      "text/plain": [
       "<class 'statsmodels.iolib.summary.Summary'>\n",
       "\"\"\"\n",
       "                              ARMA Model Results                              \n",
       "==============================================================================\n",
       "Dep. Variable:                returns   No. Observations:                 5997\n",
       "Model:                     ARMA(2, 0)   Log Likelihood               -4352.411\n",
       "Method:                       css-mle   S.D. of innovations              0.500\n",
       "Date:                Thu, 30 Dec 2021   AIC                           8712.823\n",
       "Time:                        14:33:15   BIC                           8739.619\n",
       "Sample:                    01-06-1999   HQIC                          8722.129\n",
       "                         - 12-30-2021                                         \n",
       "=================================================================================\n",
       "                    coef    std err          z      P>|z|      [0.025      0.975]\n",
       "---------------------------------------------------------------------------------\n",
       "const             0.0040      0.006      0.630      0.529      -0.008       0.016\n",
       "ar.L1.returns     0.0213      0.013      1.648      0.099      -0.004       0.047\n",
       "ar.L2.returns    -0.0389      0.013     -3.017      0.003      -0.064      -0.014\n",
       "                                    Roots                                    \n",
       "=============================================================================\n",
       "                  Real          Imaginary           Modulus         Frequency\n",
       "-----------------------------------------------------------------------------\n",
       "AR.1            0.2731           -5.0608j            5.0681           -0.2414\n",
       "AR.2            0.2731           +5.0608j            5.0681            0.2414\n",
       "-----------------------------------------------------------------------------\n",
       "\"\"\""
      ]
     },
     "execution_count": 29,
     "metadata": {},
     "output_type": "execute_result"
    }
   ],
   "source": [
    "model_ret_ar_2 = ARMA(dataframe[\"returns\"], order = (2,0))\n",
    "results_ret_ar_2 = model_ret_ar_2.fit()\n",
    "results_ret_ar_2.summary()"
   ]
  },
  {
   "cell_type": "markdown",
   "metadata": {},
   "source": [
    "We see the second lag is significant. The first and the constant are not, which means they are skipped by the model.\n",
    "\n",
    "We can then make out of sample predictions with the forecast function. The first element is the forecast, followed by standard error and confidence intervals."
   ]
  },
  {
   "cell_type": "code",
   "execution_count": 32,
   "metadata": {},
   "outputs": [
    {
     "data": {
      "text/plain": [
       "(array([0.00086697]), array([0.49998657]), array([[-0.97908871,  0.98082264]]))"
      ]
     },
     "execution_count": 32,
     "metadata": {},
     "output_type": "execute_result"
    }
   ],
   "source": [
    "results_ret_ar_2.forecast(steps=1, exog=None, alpha=0.05)"
   ]
  }
 ],
 "metadata": {
  "colab": {
   "collapsed_sections": [
    "LAyM38lGUpkL",
    "sObP-2EybVCt",
    "Y1DLRL3DDRqS",
    "0HlOzC9ADcnm",
    "Rn28ilWLbMeh",
    "SmlOeZpZdMOr",
    "ImmEw5v7X_fw",
    "hPqT_IYcS0c4"
   ],
   "name": "Don_G.ipynb",
   "provenance": []
  },
  "kernelspec": {
   "display_name": "Python 3",
   "language": "python",
   "name": "python3"
  },
  "language_info": {
   "codemirror_mode": {
    "name": "ipython",
    "version": 3
   },
   "file_extension": ".py",
   "mimetype": "text/x-python",
   "name": "python",
   "nbconvert_exporter": "python",
   "pygments_lexer": "ipython3",
   "version": "3.7.10"
  }
 },
 "nbformat": 4,
 "nbformat_minor": 1
}
